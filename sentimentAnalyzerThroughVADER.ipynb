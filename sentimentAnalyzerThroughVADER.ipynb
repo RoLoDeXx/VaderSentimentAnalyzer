{
 "cells": [
  {
   "cell_type": "code",
   "execution_count": 2,
   "metadata": {},
   "outputs": [
    {
     "name": "stdout",
     "output_type": "stream",
     "text": [
      "Enter a string\n",
      "Let's kill\n",
      "Overall sentiment dictionary is :  {'neg': 0.825, 'neu': 0.175, 'pos': 0.0, 'compound': -0.6908}\n",
      "sentence was rated as  82.5 % Negative\n",
      "sentence was rated as  17.5 % Neutral\n",
      "sentence was rated as  0.0 % Positive\n",
      "Sentence Overall Rated As Negative\n"
     ]
    },
    {
     "data": {
      "image/png": "[encoded data removed]",
      "text/plain": [
       "<Figure size 432x288 with 1 Axes>"
      ]
     },
     "metadata": {},
     "output_type": "display_data"
    }
   ],
   "source": [
    "from vaderSentiment.vaderSentiment import SentimentIntensityAnalyzer \n",
    "import matplotlib.pyplot as pb\n",
    "\n",
    "\n",
    "def sentiment_scores(sentence):  \n",
    "    sid_obj = SentimentIntensityAnalyzer()  \n",
    "    sentiment_dict = sid_obj.polarity_scores(sentence) \n",
    "      \n",
    "    labels = [\"Neutral\", \"Negative\" ,\"Positive\"]\n",
    "    sizes = [sentiment_dict['neu']*100,sentiment_dict['neg']*100,sentiment_dict['pos']*100]\n",
    "    colors = [\"yellow\",\"red\",\"green\"]\n",
    "    \n",
    "    explode = (0.1,0,0)\n",
    "    print(\"Overall sentiment dictionary is : \", sentiment_dict) \n",
    "    print(\"sentence was rated as \", sentiment_dict['neg']*100, \"% Negative\") \n",
    "    print(\"sentence was rated as \", sentiment_dict['neu']*100, \"% Neutral\") \n",
    "    print(\"sentence was rated as \", sentiment_dict['pos']*100, \"% Positive\") \n",
    "  \n",
    "    print(\"Sentence Overall Rated As\", end = \" \") \n",
    "  \n",
    "    if sentiment_dict['compound'] >= 0.05 : \n",
    "        print(\"Positive\") \n",
    "  \n",
    "    elif sentiment_dict['compound'] <= - 0.05 : \n",
    "        print(\"Negative\") \n",
    "  \n",
    "    else : \n",
    "        print(\"Neutral\") \n",
    "    \n",
    "    pb.pie(sizes,explode = explode,labels = labels,colors=colors,shadow=True)\n",
    "    pb.axis(\"equal\")\n",
    "    pb.show()\n",
    "\n",
    "sentence = input(\"Enter a string\\n\")\n",
    "\n",
    "sentiment_scores(sentence)"
   ]
  },
  {
   "cell_type": "code",
   "execution_count": null,
   "metadata": {},
   "outputs": [],
   "source": []
  },
  {
   "cell_type": "code",
   "execution_count": null,
   "metadata": {},
   "outputs": [],
   "source": []
  }
 ],
 "metadata": {
  "kernelspec": {
   "display_name": "Python 3",
   "language": "python",
   "name": "python3"
  },
  "language_info": {
   "codemirror_mode": {
    "name": "ipython",
    "version": 3
   },
   "file_extension": ".py",
   "mimetype": "text/x-python",
   "name": "python",
   "nbconvert_exporter": "python",
   "pygments_lexer": "ipython3",
   "version": "3.7.3"
  }
 },
 "nbformat": 4,
 "nbformat_minor": 2
}
